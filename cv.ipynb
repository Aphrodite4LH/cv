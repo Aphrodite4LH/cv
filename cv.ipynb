{
 "cells": [
  {
   "cell_type": "markdown",
   "metadata": {},
   "source": [
    "# 线性增强"
   ]
  },
  {
   "cell_type": "code",
   "execution_count": null,
   "metadata": {},
   "outputs": [],
   "source": [
    "from PIL import Image\n",
    "\n",
    "\n",
    "def linear_enhancement(image_path, alpha, beta):\n",
    "    # 打开图像\n",
    "    image = Image.open(image_path)\n",
    "\n",
    "    # 获取图像的宽度和高度\n",
    "    width, height = image.size\n",
    "\n",
    "    # 创建一个新的图像对象，用于存储增强后的图像\n",
    "    enhanced_image = Image.new(\"RGB\", (width, height))\n",
    "\n",
    "    # 遍历图像的每个像素点，并进行线性增强\n",
    "    for x in range(width):\n",
    "        for y in range(height):\n",
    "            # 获取原始像素值\n",
    "            r, g, b = image.getpixel((x, y))\n",
    "\n",
    "            # 进行线性增强计算\n",
    "            r_enhanced = int(alpha * r + beta)\n",
    "            g_enhanced = int(alpha * g + beta)\n",
    "            b_enhanced = int(alpha * b + beta)\n",
    "\n",
    "            # 将增强后的像素值设置到新图像中\n",
    "            enhanced_image.putpixel((x, y), (r_enhanced, g_enhanced, b_enhanced))\n",
    "\n",
    "    # 返回增强后的图像\n",
    "    return enhanced_image\n",
    "\n",
    "\n",
    "# 使用示例\n",
    "input_image_path = \"图片样例.jpg\"  # 输入图像路径\n",
    "output_image_path = \"线性增强后3.jpg\"  # 输出图像路径\n",
    "alpha = 0.8  # 增强系数\n",
    "beta = 30  # 增强偏移量\n",
    "\n",
    "enhanced_image = linear_enhancement(input_image_path, alpha, beta)\n",
    "enhanced_image.save(output_image_path)\n"
   ]
  },
  {
   "cell_type": "markdown",
   "metadata": {},
   "source": [
    "<div style=\"display: flex;justify-content: center;\">\n",
    "  <img src=\"线性增强/图片样例.jpg\" alt=\"Image 1\" style=\"width: 20%;\">\n",
    "  <img src=\"线性增强/线性增强后.jpg\" alt=\"Image 2\" style=\"width: 20%;\">\n",
    "  <img src=\"线性增强/线性增强后2.jpg\" alt=\"Image 3\" style=\"width: 20%;\">\n",
    "</div>"
   ]
  },
  {
   "cell_type": "markdown",
   "metadata": {},
   "source": [
    "***"
   ]
  },
  {
   "cell_type": "markdown",
   "metadata": {},
   "source": [
    "# 高斯滤波"
   ]
  },
  {
   "cell_type": "code",
   "execution_count": null,
   "metadata": {},
   "outputs": [],
   "source": [
    "import numpy as np\n",
    "import cv2\n",
    "\n",
    "\n",
    "def gaussian_blur(image_path, kernel_size, sigma):\n",
    "    # 读取图像\n",
    "    image = cv2.imread(image_path, cv2.IMREAD_GRAYSCALE)  # 以灰度模式读取图像\n",
    "\n",
    "    # 创建高斯核\n",
    "    kernel = create_gaussian_kernel(kernel_size, sigma)\n",
    "\n",
    "    # 执行滤波操作\n",
    "    blurred_image = convolve(image, kernel)\n",
    "\n",
    "    # 返回滤波后的图像\n",
    "    return blurred_image\n",
    "\n",
    "\n",
    "def create_gaussian_kernel(kernel_size, sigma):\n",
    "    # 计算高斯核的大小\n",
    "    size = int((kernel_size - 1) / 2)\n",
    "\n",
    "    # 创建高斯核\n",
    "    kernel = np.fromfunction(\n",
    "        lambda x, y: (1 / (2 * np.pi * sigma ** 2)) * np.exp(-((x - size) ** 2 + (y - size) ** 2) / (2 * sigma ** 2)),\n",
    "        (kernel_size, kernel_size))\n",
    "\n",
    "    # 归一化高斯核\n",
    "    kernel /= np.sum(kernel)\n",
    "\n",
    "    return kernel\n",
    "\n",
    "\n",
    "def convolve(image, kernel):\n",
    "    # 获取图像的尺寸\n",
    "    height, width = image.shape\n",
    "\n",
    "    # 获取高斯核的尺寸\n",
    "    kernel_size = kernel.shape[0]\n",
    "\n",
    "    # 计算高斯核的大小\n",
    "    size = int((kernel_size - 1) / 2)\n",
    "\n",
    "    # 创建一个新的图像对象（空白），用于存储滤波后的图像\n",
    "    blurred_image = np.zeros((height, width), dtype=np.uint8) # uint8:无符号八位整数，作为数组的数据类型\n",
    "\n",
    "    # 执行卷积操作（最边上的像素点不进行卷积）\n",
    "    for row in range(size, height - size):\n",
    "        for col in range(size, width - size):\n",
    "            # 提取当前像素周围的图像块\n",
    "            block = image[row - size: row + size + 1, col - size: col + size + 1]\n",
    "\n",
    "            # 进行卷积计算\n",
    "            convolved_value = np.sum(block * kernel)\n",
    "\n",
    "            # 将卷积结果存储到新图像中\n",
    "            blurred_image[row, col] = int(convolved_value)\n",
    "\n",
    "    return blurred_image\n",
    "\n",
    "\n",
    "# 使用示例\n",
    "input_image_path = \"img.jpg\"  # 输入图像路径\n",
    "output_image_path = \"gaussian100.jpg\"  # 输出图像路径\n",
    "kernel_size = 5  # 高斯核大小\n",
    "sigma = 100.0  # 高斯核标准差\n",
    "\n",
    "blurred_image = gaussian_blur(input_image_path, kernel_size, sigma)\n",
    "cv2.imwrite(output_image_path, blurred_image)\n"
   ]
  },
  {
   "cell_type": "markdown",
   "metadata": {},
   "source": [
    "<div style=\"display: flex; justify-content: center;\">\n",
    "  <img src=\"高斯滤波/img.jpg\" alt=\"Image 1\" style=\"width: 20%;\">\n",
    "  <img src=\"高斯滤波/gaussian1.jpg\" alt=\"Image 2\" style=\"width: 20%;\">\n",
    "  <img src=\"高斯滤波/gaussian10.jpg\" alt=\"Image 3\" style=\"width: 20%;\">\n",
    "  <img src=\"高斯滤波/gaussian100.jpg\" alt=\"Image 4\" style=\"width: 20%;\">\n",
    "</div>"
   ]
  },
  {
   "cell_type": "markdown",
   "metadata": {},
   "source": [
    "***"
   ]
  },
  {
   "cell_type": "markdown",
   "metadata": {},
   "source": [
    "# 高斯锐化"
   ]
  },
  {
   "cell_type": "code",
   "execution_count": null,
   "metadata": {},
   "outputs": [],
   "source": [
    "import numpy as np\n",
    "from scipy.ndimage import convolve\n",
    "import cv2\n",
    "\n",
    "def gaussian_sharpen(image, sigma, strength):\n",
    "    # 创建高斯核\n",
    "    size = int(2 * np.ceil(3 * sigma) + 1)\n",
    "    kernel = np.fromfunction(lambda x, y: (1/(2*np.pi*sigma**2)) * np.exp(-((x-size//2)**2 + (y-size//2)**2)/(2*sigma**2)), (size, size))\n",
    "    kernel /= np.sum(kernel)  # 归一化\n",
    "\n",
    "    # 对图像进行卷积操作\n",
    "    blurred = convolve(image, kernel)\n",
    "\n",
    "    # 高斯锐化：原始图像加上锐化图像\n",
    "    sharpened = image + (image - blurred) * strength\n",
    "\n",
    "    # 将像素值限制在0到255之间\n",
    "    sharpened = np.clip(sharpened, 0, 255).astype(np.uint8)\n",
    "\n",
    "    return sharpened\n",
    "\n",
    "# 读取图像\n",
    "image = cv2.imread('img.jpg', 0)  # 以灰度模式读取图像\n",
    "\n",
    "# 调用高斯锐化函数\n",
    "sharpened_image = gaussian_sharpen(image, 2.0, 1.5)\n",
    "\n",
    "# 显示原始图像和锐化后的图像\n",
    "cv2.imshow('Original Image', image)\n",
    "cv2.imshow('Sharpened Image', sharpened_image)\n",
    "cv2.waitKey(0)\n",
    "cv2.destroyAllWindows()"
   ]
  },
  {
   "cell_type": "markdown",
   "metadata": {},
   "source": [
    "<div style=\"display: flex; justify-content: center;\">\n",
    "  <img src=\"高斯锐化/original_image.jpg\" alt=\"Original Image\" style=\"width:20%; \">\n",
    "  <img src=\"高斯锐化/sharpened_image.jpg\" alt=\"Sharpened Image\" style=\"width:20%; \">\n",
    "</div>"
   ]
  }
 ],
 "metadata": {
  "kernelspec": {
   "display_name": "base",
   "language": "python",
   "name": "python3"
  },
  "language_info": {
   "codemirror_mode": {
    "name": "ipython",
    "version": 3
   },
   "file_extension": ".py",
   "mimetype": "text/x-python",
   "name": "python",
   "nbconvert_exporter": "python",
   "pygments_lexer": "ipython3",
   "version": "3.9.13"
  },
  "orig_nbformat": 4
 },
 "nbformat": 4,
 "nbformat_minor": 2
}
